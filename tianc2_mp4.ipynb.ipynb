{
 "cells": [
  {
   "cell_type": "markdown",
   "metadata": {
    "colab_type": "text",
    "id": "wmCbxoDrADcF"
   },
   "source": [
    "# Google Colab setup with Google Drive folder\n",
    "\n",
    "This notebook provides the code you need to set up Google Colab to run and import files from within a Google Drive folder.\n",
    "\n",
    "This will allow you to upload assignment code to your Google Drive and then run the code on Google Colab machines (with free GPUs if needed). \n",
    "\n",
    "You will need to create a folder in your Google Drive to hold your assignments and you will need to open Colaboratory within this folder before running the set up code (check the link above to see how)."
   ]
  },
  {
   "cell_type": "code",
   "execution_count": 0,
   "metadata": {
    "colab": {},
    "colab_type": "code",
    "id": "UA2-UyfpEc9O"
   },
   "outputs": [],
   "source": [
    "import os\n",
    "os.chdir(\"/content/gdrive/My Drive/cs543/mp4\")"
   ]
  },
  {
   "cell_type": "code",
   "execution_count": 7,
   "metadata": {
    "colab": {
     "base_uri": "https://localhost:8080/",
     "height": 118
    },
    "colab_type": "code",
    "id": "kjbQtzKT9Uc2",
    "outputId": "6f65780c-4804-46f5-932b-f3920ff06741"
   },
   "outputs": [
    {
     "name": "stdout",
     "output_type": "stream",
     "text": [
      "Requirement already satisfied: torch in /usr/local/lib/python3.6/dist-packages (1.0.1.post2)\n",
      "Requirement already satisfied: torchvision in /usr/local/lib/python3.6/dist-packages (0.2.2.post3)\n",
      "Requirement already satisfied: numpy in /usr/local/lib/python3.6/dist-packages (from torchvision) (1.16.3)\n",
      "Requirement already satisfied: pillow>=4.1.1 in /usr/local/lib/python3.6/dist-packages (from torchvision) (4.3.0)\n",
      "Requirement already satisfied: six in /usr/local/lib/python3.6/dist-packages (from torchvision) (1.12.0)\n",
      "Requirement already satisfied: olefile in /usr/local/lib/python3.6/dist-packages (from pillow>=4.1.1->torchvision) (0.46)\n"
     ]
    }
   ],
   "source": [
    "!pip3 install torch torchvision"
   ]
  },
  {
   "cell_type": "markdown",
   "metadata": {
    "colab_type": "text",
    "id": "u_BekZYY9Vzx"
   },
   "source": [
    "Make sure that pytorch is installed and works with GPU:"
   ]
  },
  {
   "cell_type": "code",
   "execution_count": 8,
   "metadata": {
    "colab": {
     "base_uri": "https://localhost:8080/",
     "height": 34
    },
    "colab_type": "code",
    "id": "8TXSJWQa9efx",
    "outputId": "f925d2b8-6595-4f51-d412-bf4106706e3b"
   },
   "outputs": [
    {
     "name": "stdout",
     "output_type": "stream",
     "text": [
      "tensor([1.], device='cuda:0')\n"
     ]
    }
   ],
   "source": [
    "import torch\n",
    "a = torch.Tensor([1]).cuda()\n",
    "print(a)\n"
   ]
  },
  {
   "cell_type": "code",
   "execution_count": 9,
   "metadata": {
    "colab": {
     "base_uri": "https://localhost:8080/",
     "height": 34
    },
    "colab_type": "code",
    "id": "OEeRNsCjRXZK",
    "outputId": "4816c470-c572-45e3-8e61-6e7b06f42ba8"
   },
   "outputs": [
    {
     "data": {
      "text/plain": [
       "True"
      ]
     },
     "execution_count": 9,
     "metadata": {
      "tags": []
     },
     "output_type": "execute_result"
    }
   ],
   "source": [
    "torch.cuda.is_available()"
   ]
  },
  {
   "cell_type": "markdown",
   "metadata": {
    "colab_type": "text",
    "id": "qChgLJERsvZP"
   },
   "source": [
    "# Part 1"
   ]
  },
  {
   "cell_type": "code",
   "execution_count": 0,
   "metadata": {
    "colab": {},
    "colab_type": "code",
    "id": "IlyCnvf6WzjR"
   },
   "outputs": [],
   "source": [
    "\"\"\"Headers\"\"\"\n",
    "\n",
    "from __future__ import print_function\n",
    "from PIL import Image\n",
    "import os\n",
    "import os.path\n",
    "import numpy as np\n",
    "import sys\n",
    "if sys.version_info[0] == 2:\n",
    "    import cPickle as pickle\n",
    "else:\n",
    "    import pickle\n",
    "\n",
    "import torch.utils.data as data\n",
    "from torchvision.datasets.utils import download_url, check_integrity\n",
    "\n",
    "import csv\n",
    "%matplotlib inline\n",
    "import matplotlib\n",
    "import matplotlib.pyplot as plt\n",
    "import numpy as np\n",
    "import os.path\n",
    "import sys\n",
    "import torch\n",
    "import torch.utils.data\n",
    "import torchvision\n",
    "import torchvision.transforms as transforms\n",
    "\n",
    "from torch.autograd import Variable\n",
    "import torch.nn as nn\n",
    "import torch.nn.functional as F\n",
    "\n",
    "np.random.seed(111)\n",
    "torch.cuda.manual_seed_all(111)\n",
    "torch.manual_seed(111)"
   ]
  },
  {
   "cell_type": "markdown",
   "metadata": {
    "colab_type": "text",
    "id": "137GhZMrcTuj"
   },
   "source": [
    "\n",
    "\n",
    "## **Just execute the cell below. This is the dataloader. DO NOT CHANGE ANYTHING IN HERE!**\n"
   ]
  },
  {
   "cell_type": "code",
   "execution_count": 0,
   "metadata": {
    "colab": {},
    "colab_type": "code",
    "id": "URUH4fzzWqKr"
   },
   "outputs": [],
   "source": [
    "\"\"\"\"\"\"\n",
    "\n",
    "class CIFAR10_CS543(data.Dataset):\n",
    "    \"\"\"`CIFAR10 <https://www.cs.toronto.edu/~kriz/cifar.html>`_ Dataset.\n",
    "\n",
    "    Args:\n",
    "        root (string): Root directory of dataset where directory\n",
    "            ``cifar-10-batches-py`` exists or will be saved to if download is set to True.\n",
    "        train (bool, optional): If True, creates dataset from training set, otherwise\n",
    "            creates from test set.\n",
    "        transform (callable, optional): A function/transform that  takes in an PIL image\n",
    "            and returns a transformed version. E.g, ``transforms.RandomCrop``\n",
    "        target_transform (callable, optional): A function/transform that takes in the\n",
    "            target and transforms it.\n",
    "        download (bool, optional): If true, downloads the dataset from the internet and\n",
    "            puts it in root directory. If dataset is already downloaded, it is not\n",
    "            downloaded again.\n",
    "\n",
    "    \"\"\"\n",
    "    base_folder = 'cifar100'\n",
    "    url = \"https://www.cs.toronto.edu/~kriz/cifar-10-python.tar.gz\"\n",
    "    filename = \"cifar100.tar.gz\"\n",
    "    tgz_md5 = 'c58f30108f718f92721af3b95e74349a'\n",
    "    train_list = [\n",
    "        ['data_batch_1', 'c99cafc152244af753f735de768cd75f'],\n",
    "        ['data_batch_2', 'd4bba439e000b95fd0a9bffe97cbabec'],\n",
    "        ['data_batch_3', '54ebc095f3ab1f0389bbae665268c751'],\n",
    "        ['data_batch_4', '634d18415352ddfa80567beed471001a'],\n",
    "        ['data_batch_5', '482c414d41f54cd18b22e5b47cb7c3cb'],\n",
    "    ]\n",
    "\n",
    "    test_list = [\n",
    "        ['test_batch', '40351d587109b95175f43aff81a1287e'],\n",
    "    ]\n",
    "\n",
    "    def __init__(self, root, fold=\"train\",\n",
    "                 transform=None, target_transform=None,\n",
    "                 download=False):\n",
    "        \n",
    "        fold = fold.lower()\n",
    "\n",
    "        self.train = False\n",
    "        self.test = False\n",
    "        self.val = False\n",
    "\n",
    "        if fold == \"train\":\n",
    "            self.train = True\n",
    "        elif fold == \"test\":\n",
    "            self.test = True\n",
    "        elif fold == \"val\":\n",
    "            self.val = True\n",
    "        else:\n",
    "            raise RuntimeError(\"Not train-val-test\")\n",
    "\n",
    "\n",
    "        self.root = os.path.expanduser(root)\n",
    "        self.transform = transform\n",
    "        self.target_transform = target_transform\n",
    "\n",
    "        fpath = os.path.join(root, self.filename)\n",
    "        if not self._check_integrity():\n",
    "            raise RuntimeError('Dataset not found or corrupted.' +\n",
    "                               ' Download it and extract the file again.')\n",
    "\n",
    "        # now load the picked numpy arrays\n",
    "        if self.train or self.val:\n",
    "            self.train_data = []\n",
    "            self.train_labels = []\n",
    "            for fentry in self.train_list:\n",
    "                f = fentry[0]\n",
    "                file = os.path.join(self.root, self.base_folder, f)\n",
    "                fo = open(file, 'rb')\n",
    "                if sys.version_info[0] == 2:\n",
    "                    entry = pickle.load(fo)\n",
    "                else:\n",
    "                    entry = pickle.load(fo, encoding='latin1')\n",
    "                self.train_data.append(entry['data'])\n",
    "                if 'labels' in entry:\n",
    "                    self.train_labels += entry['labels']\n",
    "                else:\n",
    "                    self.train_labels += entry['fine_labels']\n",
    "                fo.close()\n",
    "\n",
    "            self.train_data = np.concatenate(self.train_data)\n",
    "            self.train_data = self.train_data.reshape((50000, 3, 32, 32))\n",
    "            self.train_data = self.train_data.transpose((0, 2, 3, 1))  # convert to HWC\n",
    "            \n",
    "            p = np.arange(0,50000,10)\n",
    "            mask_train = np.ones((50000,), dtype=bool)\n",
    "            mask_train[p] = False\n",
    "            mask_val = np.zeros((50000,), dtype=bool)\n",
    "            mask_val[p] = True\n",
    "\n",
    "            copy_all_data = np.array(self.train_data)\n",
    "            self.val_data = np.array(copy_all_data[mask_val])\n",
    "            self.train_data = np.array(copy_all_data[mask_train])\n",
    "            \n",
    "            copy_all_labels = np.array(self.train_labels)\n",
    "            self.val_labels = np.array(copy_all_labels[mask_val])\n",
    "            self.train_labels = np.array(copy_all_labels[mask_train])\n",
    "\n",
    "        elif self.test:\n",
    "            f = self.test_list[0][0]\n",
    "            file = os.path.join(self.root, self.base_folder, f)\n",
    "            fo = open(file, 'rb')\n",
    "            if sys.version_info[0] == 2:\n",
    "                entry = pickle.load(fo)\n",
    "            else:\n",
    "                entry = pickle.load(fo, encoding='latin1')\n",
    "            self.test_data = entry['data']\n",
    "\n",
    "            if 'labels' in entry:\n",
    "                self.test_labels = entry['labels']\n",
    "            else:\n",
    "                self.test_labels = entry['fine_labels']\n",
    "            fo.close()\n",
    "            self.test_data = self.test_data.reshape((10000, 3, 32, 32))\n",
    "            self.test_data = self.test_data.transpose((0, 2, 3, 1))  # convert to HWC\n",
    "\n",
    "    def __getitem__(self, index):\n",
    "        \"\"\"\n",
    "        Args:\n",
    "            index (int): Index\n",
    "\n",
    "        Returns:\n",
    "            tuple: (image, target) where target is index of the target class.\n",
    "        \"\"\"\n",
    "        if self.train:\n",
    "            img, target = self.train_data[index], self.train_labels[index]\n",
    "        elif self.test:\n",
    "            img, target = self.test_data[index], self.test_labels[index]\n",
    "        elif self.val:\n",
    "            img, target = self.val_data[index], self.val_labels[index]\n",
    "\n",
    "        # doing this so that it is consistent with all other datasets\n",
    "        # to return a PIL Image\n",
    "        img = Image.fromarray(img)\n",
    "\n",
    "        if self.transform is not None:\n",
    "            img = self.transform(img)\n",
    "\n",
    "        if self.target_transform is not None:\n",
    "            target = self.target_transform(target)\n",
    "\n",
    "        return img, target\n",
    "\n",
    "    def __len__(self):\n",
    "        if self.train:\n",
    "            return len(self.train_data)\n",
    "        elif self.test:\n",
    "            return len(self.test_data)\n",
    "        elif self.val:\n",
    "            return len(self.val_data)\n",
    "\n",
    "    def _check_integrity(self):\n",
    "        root = self.root\n",
    "        for fentry in (self.train_list + self.test_list):\n",
    "            filename, md5 = fentry[0], fentry[1]\n",
    "            fpath = os.path.join(root, self.base_folder, filename)\n",
    "            if not check_integrity(fpath, md5):\n",
    "                return False\n",
    "        return True\n",
    "\n",
    "    def __repr__(self):\n",
    "        fmt_str = 'Dataset ' + self.__class__.__name__ + '\\n'\n",
    "        fmt_str += '    Number of datapoints: {}\\n'.format(self.__len__())\n",
    "        tmp = 'train' if self.train is True else 'test'\n",
    "        fmt_str += '    Split: {}\\n'.format(tmp)\n",
    "        fmt_str += '    Root Location: {}\\n'.format(self.root)\n",
    "        tmp = '    Transforms (if any): '\n",
    "        fmt_str += '{0}{1}\\n'.format(tmp, self.transform.__repr__().replace('\\n', '\\n' + ' ' * len(tmp)))\n",
    "        tmp = '    Target Transforms (if any): '\n",
    "        fmt_str += '{0}{1}'.format(tmp, self.target_transform.__repr__().replace('\\n', '\\n' + ' ' * len(tmp)))\n",
    "        return fmt_str\n",
    "\n",
    "\n",
    "class CIFAR100_CS543(CIFAR10_CS543):\n",
    "    \"\"\"`CIFAR100 <https://www.cs.toronto.edu/~kriz/cifar.html>`_ Dataset.\n",
    "\n",
    "    This is a subclass of the `CIFAR10` Dataset.\n",
    "    \"\"\"\n",
    "    base_folder = 'cifar100'\n",
    "    filename = \"cifar100.tar.gz\"\n",
    "    tgz_md5 = 'e68a4c763591787a0b39fe2209371f32'\n",
    "    train_list = [\n",
    "        ['train_cs543', '49eee854445c1e2ebe796cd93c20bb0f'],\n",
    "    ]\n",
    "\n",
    "    test_list = [\n",
    "        ['test_cs543', 'd3fe9f6a9251bd443f428f896d27384f'],\n",
    "    ]"
   ]
  },
  {
   "cell_type": "markdown",
   "metadata": {
    "colab_type": "text",
    "id": "JpFMv7HtcII4"
   },
   "source": [
    "This file has been adapted from the easy-to-use tutorial released by PyTorch:\n",
    "http://pytorch.org/tutorials/beginner/blitz/cifar10_tutorial.html\n",
    "\n",
    "Training an image classifier\n",
    "----------------------------\n",
    "\n",
    "We will do the following steps in order:\n",
    "\n",
    "1. Load the CIFAR100_CS543 training, validation and test datasets using\n",
    "   torchvision. Use torchvision.transforms to apply transforms on the\n",
    "   dataset.\n",
    "2. Define a Convolution Neural Network - BaseNet\n",
    "3. Define a loss function and optimizer\n",
    "4. Train the network on training data and check performance on val set.\n",
    "   Plot train loss and validation accuracies.\n",
    "5. Try the network on test data and create .csv file for submission to kaggle"
   ]
  },
  {
   "cell_type": "code",
   "execution_count": 0,
   "metadata": {
    "colab": {},
    "colab_type": "code",
    "id": "Ld6juH34dWWq"
   },
   "outputs": [],
   "source": [
    "# <<TODO#5>> Based on the val set performance, decide how many\n",
    "# epochs are apt for your model.\n",
    "# ---------\n",
    "EPOCHS = 50\n",
    "# ---------\n",
    "\n",
    "IS_GPU = True\n",
    "TEST_BS = 256\n",
    "TOTAL_CLASSES = 100\n",
    "TRAIN_BS = 32\n",
    "PATH_TO_CIFAR100_CS543 = \"/data/\""
   ]
  },
  {
   "cell_type": "code",
   "execution_count": 0,
   "metadata": {
    "colab": {},
    "colab_type": "code",
    "id": "0ENlTTMi-qFD"
   },
   "outputs": [],
   "source": [
    "ls /data/cifar100/"
   ]
  },
  {
   "cell_type": "code",
   "execution_count": 0,
   "metadata": {
    "colab": {},
    "colab_type": "code",
    "id": "d57CSAj1dfix"
   },
   "outputs": [],
   "source": [
    "def calculate_val_accuracy(valloader, is_gpu):\n",
    "    \"\"\" Util function to calculate val set accuracy,\n",
    "    both overall and per class accuracy\n",
    "    Args:\n",
    "        valloader (torch.utils.data.DataLoader): val set \n",
    "        is_gpu (bool): whether to run on GPU\n",
    "    Returns:\n",
    "        tuple: (overall accuracy, class level accuracy)\n",
    "    \"\"\"    \n",
    "    correct = 0.\n",
    "    total = 0.\n",
    "    predictions = []\n",
    "\n",
    "    class_correct = list(0. for i in range(TOTAL_CLASSES))\n",
    "    class_total = list(0. for i in range(TOTAL_CLASSES))\n",
    "\n",
    "    for data in valloader:\n",
    "        images, labels = data\n",
    "        if is_gpu:\n",
    "            images = images.cuda()\n",
    "            labels = labels.cuda()\n",
    "        outputs = net(Variable(images))\n",
    "        _, predicted = torch.max(outputs.data, 1)\n",
    "        predictions.extend(list(predicted.cpu().numpy()))\n",
    "        total += labels.size(0)\n",
    "        correct += (predicted == labels).sum()\n",
    "\n",
    "        c = (predicted == labels).squeeze()\n",
    "        for i in range(len(labels)):\n",
    "            label = labels[i]\n",
    "            class_correct[label] += c[i]\n",
    "            class_total[label] += 1\n",
    "\n",
    "    class_accuracy = 100 * np.divide(class_correct, class_total)\n",
    "    return 100*correct/total, class_accuracy"
   ]
  },
  {
   "cell_type": "markdown",
   "metadata": {
    "colab_type": "text",
    "id": "aq2qOUaJeAWJ"
   },
   "source": [
    "1.** Loading CIFAR100_CS543**\n",
    "\n",
    "We modify the dataset to create CIFAR100_CS543 dataset which consist of 45000 training images (450 of each class), 5000 validation images (50 of each class) and 10000 test images (100 of each class). The train and val datasets have labels while all the labels in the test set are set to 0.\n"
   ]
  },
  {
   "cell_type": "code",
   "execution_count": 0,
   "metadata": {
    "colab": {},
    "colab_type": "code",
    "id": "C2UcDZmtdfq3"
   },
   "outputs": [],
   "source": [
    "# The output of torchvision datasets are PILImage images of range [0, 1].\n",
    "# Using transforms.ToTensor(), transform them to Tensors of normalized range\n",
    "# [-1, 1].\n",
    "\n",
    "\n",
    "# <<TODO#1>> Use transforms.Normalize() with the right parameters to \n",
    "# make the data well conditioned (zero mean, std dev=1) for improved training.\n",
    "# <<TODO#2>> Try using transforms.RandomCrop() and/or transforms.RandomHorizontalFlip()\n",
    "# to augment training data.\n",
    "# After your edits, make sure that test_transform should have the same data\n",
    "# normalization parameters as train_transform\n",
    "# You shouldn't have any data augmentation in test_transform (val or test data is never augmented).\n",
    "# ---------------------\n",
    "\n",
    "train_transform = transforms.Compose(\n",
    "    [transforms.ToTensor(),transforms.Normalize((0.5, 0.5, 0.5), (0.5, 0.5, 0.5)),])\n",
    "test_transform = transforms.Compose(\n",
    "    [transforms.ToTensor(),transforms.Normalize((0.5, 0.5, 0.5), (0.5, 0.5, 0.5)),])\n",
    "# ---------------------\n",
    "\n",
    "trainset = CIFAR100_CS543(root=PATH_TO_CIFAR100_CS543, fold=\"train\",\n",
    "                                        download=True, transform=train_transform)\n",
    "trainloader = torch.utils.data.DataLoader(trainset, batch_size=TRAIN_BS,\n",
    "                                          shuffle=True, num_workers=2)\n",
    "print(\"Train set size: \"+str(len(trainset)))\n",
    "\n",
    "valset = CIFAR100_CS543(root=PATH_TO_CIFAR100_CS543, fold=\"val\",\n",
    "                                       download=True, transform=test_transform)\n",
    "valloader = torch.utils.data.DataLoader(valset, batch_size=TEST_BS,\n",
    "                                         shuffle=False, num_workers=2)\n",
    "print(\"Val set size: \"+str(len(valset)))\n",
    "\n",
    "testset = CIFAR100_CS543(root=PATH_TO_CIFAR100_CS543, fold=\"test\",\n",
    "                                       download=True, transform=test_transform)\n",
    "testloader = torch.utils.data.DataLoader(testset, batch_size=TEST_BS,\n",
    "                                         shuffle=False, num_workers=2)\n",
    "print(\"Test set size: \"+str(len(testset)))\n",
    "\n",
    "# The 100 classes for CIFAR100\n",
    "classes = ['apple', 'aquarium_fish', 'baby', 'bear', 'beaver', 'bed', 'bee', 'beetle', 'bicycle', 'bottle', 'bowl', 'boy', 'bridge', 'bus', 'butterfly', 'camel', 'can', 'castle', 'caterpillar', 'cattle', 'chair', 'chimpanzee', 'clock', 'cloud', 'cockroach', 'couch', 'crab', 'crocodile', 'cup', 'dinosaur', 'dolphin', 'elephant', 'flatfish', 'forest', 'fox', 'girl', 'hamster', 'house', 'kangaroo', 'keyboard', 'lamp', 'lawn_mower', 'leopard', 'lion', 'lizard', 'lobster', 'man', 'maple_tree', 'motorcycle', 'mountain', 'mouse', 'mushroom', 'oak_tree', 'orange', 'orchid', 'otter', 'palm_tree', 'pear', 'pickup_truck', 'pine_tree', 'plain', 'plate', 'poppy', 'porcupine', 'possum', 'rabbit', 'raccoon', 'ray', 'road', 'rocket', 'rose', 'sea', 'seal', 'shark', 'shrew', 'skunk', 'skyscraper', 'snail', 'snake', 'spider', 'squirrel', 'streetcar', 'sunflower', 'sweet_pepper', 'table', 'tank', 'telephone', 'television', 'tiger', 'tractor', 'train', 'trout', 'tulip', 'turtle', 'wardrobe', 'whale', 'willow_tree', 'wolf', 'woman', 'worm']\n",
    "\n"
   ]
  },
  {
   "cell_type": "code",
   "execution_count": 0,
   "metadata": {
    "colab": {},
    "colab_type": "code",
    "id": "5b_fBznndp4W"
   },
   "outputs": [],
   "source": [
    "########################################################################\n",
    "# 2. Define a Convolution Neural Network\n",
    "# ^^^^^^^^^^^^^^^^^^^^^^^^^^^^^^^^^^^^^^\n",
    "# We provide a basic network that you should understand, run and\n",
    "# eventually improve\n",
    "# <<TODO>> Add more conv layers\n",
    "# <<TODO>> Add more fully connected (fc) layers\n",
    "# <<TODO>> Add regularization layers like Batchnorm.\n",
    "#          nn.BatchNorm2d after conv layers:\n",
    "#          http://pytorch.org/docs/master/nn.html#batchnorm2d\n",
    "#          nn.BatchNorm1d after fc layers:\n",
    "#          http://pytorch.org/docs/master/nn.html#batchnorm1d\n",
    "# This is a good resource for developing a CNN for classification:\n",
    "# http://cs231n.github.io/convolutional-networks/#layers\n",
    "\n",
    "import torch.nn as nn\n",
    "import torch.nn.functional as F\n",
    "\n",
    "class BaseNet(nn.Module):\n",
    "    def __init__(self):\n",
    "        super(BaseNet, self).__init__()\n",
    "        \n",
    "        # <<TODO#3>> Add more conv layers with increasing \n",
    "        # output channels\n",
    "        # <<TODO#4>> Add normalization layers after conv\n",
    "        # layers (nn.BatchNorm2d)\n",
    "\n",
    "        # Also experiment with kernel size in conv2d layers (say 3\n",
    "        # inspired from VGGNet)\n",
    "        # To keep it simple, keep the same kernel size\n",
    "        # (right now set to 5) in all conv layers.\n",
    "        # Do not have a maxpool layer after every conv layer in your\n",
    "        # deeper network as it leads to too much loss of information.\n",
    "\n",
    "#         self.conv1 = nn.Conv2d(3, 6, 5)\n",
    "#         self.pool = nn.MaxPool2d(2, 2)\n",
    "#         self.conv2 = nn.Conv2d(6, 16, 5)\n",
    "\n",
    "      \n",
    "        self.pool = nn.MaxPool2d(2, 2)\n",
    "        self.conv1 = nn.Conv2d(3, 6, 3,padding=(2,2))\n",
    "        self.conv2 = nn.Conv2d(6, 16, 3,padding=(2,2))\n",
    "        self.conv3 = nn.Conv2d(16, 32, 3,padding=(1,1))\n",
    "        self.conv4 = nn.Conv2d(32, 64, 3,padding=(1,1))\n",
    "        self.conv5 = nn.Conv2d(64, 128, 3,padding=(1,1))\n",
    "        self.conv6 = nn.Conv2d(128, 256, 3,padding=(1,1))\n",
    "        self.conv7 = nn.Conv2d(256, 512, 3,padding=(1,1))\n",
    "\n",
    "        \n",
    "#         self.conv6 = nn.Conv2d(256, 512, 3,padding=(1,1))\n",
    "#         self.conv7 = nn.Conv2d(256, 512, 3)\n",
    "        self.batch1 = nn.BatchNorm2d(6)\n",
    "        self.batch2 = nn.BatchNorm2d(16)\n",
    "        self.batch3 = nn.BatchNorm2d(32)\n",
    "        self.batch4 = nn.BatchNorm2d(64)\n",
    "        self.batch5 = nn.BatchNorm2d(128)\n",
    "        self.batch6 = nn.BatchNorm2d(256)\n",
    "        self.batch7 = nn.BatchNorm2d(512)\n",
    "\n",
    "        # <<TODO#3>> Add more linear (fc) layers\n",
    "        # <<TODO#4>> Add normalization layers after linear and\n",
    "        # experiment inserting them before or after ReLU (nn.BatchNorm1d)\n",
    "        # More on nn.sequential:\n",
    "        # http://pytorch.org/docs/master/nn.html#torch.nn.Sequential\n",
    "        \n",
    "        self.fc_net = nn.Sequential(\n",
    "#             nn.Linear(16 * 5 * 5, TOTAL_CLASSES*12),\n",
    "            nn.Linear(512 * 4 * 4, TOTAL_CLASSES*12),\n",
    "            nn.ReLU(inplace=True),\n",
    "            nn.Linear(TOTAL_CLASSES*12, TOTAL_CLASSES*8),\n",
    "            nn.ReLU(inplace=True),\n",
    "            nn.Linear(TOTAL_CLASSES*8, TOTAL_CLASSES),\n",
    "        )\n",
    "\n",
    "    def forward(self, x):\n",
    "\n",
    "        # <<TODO#3&#4>> Based on the above edits, you'll have\n",
    "        # to edit the forward pass description here.\n",
    "\n",
    "        x = self.pool(F.relu(self.batch1(self.conv1(x))))\n",
    "        x = (F.relu(self.batch2(self.conv2(x))))\n",
    "        x = (F.relu(self.batch3(self.conv3(x))))\n",
    "        x = self.pool(F.relu(self.batch4(self.conv4(x))))\n",
    "        x = (F.relu(self.batch5(self.conv5(x))))\n",
    "        x = (F.relu(self.batch6(self.conv6(x))))\n",
    "        x = self.pool(F.relu(self.batch7(self.conv7(x))))\n",
    "\n",
    "        # See the CS231 link to understand why this is 16*5*5!\n",
    "        # This will help you design your own deeper network\n",
    "        x = x.view(-1, 512 * 4 * 4)\n",
    "#         x = x.view(-1, 16 * 5 * 5)\n",
    "        x = self.fc_net(x)\n",
    "\n",
    "        # No softmax is needed as the loss function in step 3\n",
    "        # takes care of that\n",
    "        \n",
    "        return x\n",
    "\n",
    "# Create an instance of the nn.module class defined above:\n",
    "net = BaseNet()\n",
    "\n",
    "# For training on GPU, we need to transfer net and data onto the GPU\n",
    "# http://pytorch.org/tutorials/beginner/blitz/cifar10_tutorial.html#training-on-gpu\n",
    "if IS_GPU:\n",
    "    net = net.cuda()\n"
   ]
  },
  {
   "cell_type": "code",
   "execution_count": 0,
   "metadata": {
    "colab": {},
    "colab_type": "code",
    "id": "zAZjIcLOdp-W"
   },
   "outputs": [],
   "source": [
    "########################################################################\n",
    "# 3. Define a Loss function and optimizer\n",
    "# ^^^^^^^^^^^^^^^^^^^^^^^^^^^^^^^^^^^^^^^\n",
    "# Here we use Cross-Entropy loss and SGD with momentum.\n",
    "# The CrossEntropyLoss criterion already includes softmax within its\n",
    "# implementation. That's why we don't use a softmax in our model\n",
    "# definition.\n",
    "\n",
    "import torch.optim as optim\n",
    "criterion = nn.CrossEntropyLoss()\n",
    "\n",
    "# Tune the learning rate.\n",
    "# See whether the momentum is useful or not\n",
    "optimizer = optim.SGD(net.parameters(), lr=0.005, momentum=0.9)\n",
    "\n",
    "plt.ioff()\n",
    "fig = plt.figure()\n",
    "train_loss_over_epochs = []\n",
    "val_accuracy_over_epochs = []\n"
   ]
  },
  {
   "cell_type": "markdown",
   "metadata": {
    "colab_type": "text",
    "id": "bcRPk4hDmctr"
   },
   "source": []
  },
  {
   "cell_type": "code",
   "execution_count": 0,
   "metadata": {
    "colab": {
     "base_uri": "https://localhost:8080/",
     "height": 1714
    },
    "colab_type": "code",
    "id": "Ku7eF366dyUP",
    "outputId": "064f48a0-5bde-4d32-c0b1-c1995a68382b"
   },
   "outputs": [
    {
     "name": "stdout",
     "output_type": "stream",
     "text": [
      "[1] loss: 3.758\n",
      "Accuracy of the network on the val images: 20 %\n",
      "[2] loss: 2.908\n",
      "Accuracy of the network on the val images: 32 %\n",
      "[3] loss: 2.438\n",
      "Accuracy of the network on the val images: 38 %\n",
      "[4] loss: 2.099\n",
      "Accuracy of the network on the val images: 41 %\n",
      "[5] loss: 1.805\n",
      "Accuracy of the network on the val images: 45 %\n",
      "[6] loss: 1.541\n",
      "Accuracy of the network on the val images: 46 %\n",
      "[7] loss: 1.279\n",
      "Accuracy of the network on the val images: 47 %\n",
      "[8] loss: 1.017\n",
      "Accuracy of the network on the val images: 48 %\n",
      "[9] loss: 0.768\n",
      "Accuracy of the network on the val images: 48 %\n",
      "[10] loss: 0.536\n",
      "Accuracy of the network on the val images: 48 %\n",
      "[11] loss: 0.351\n",
      "Accuracy of the network on the val images: 49 %\n",
      "[12] loss: 0.222\n",
      "Accuracy of the network on the val images: 48 %\n",
      "[13] loss: 0.153\n",
      "Accuracy of the network on the val images: 49 %\n",
      "[14] loss: 0.102\n",
      "Accuracy of the network on the val images: 48 %\n",
      "[15] loss: 0.085\n",
      "Accuracy of the network on the val images: 49 %\n",
      "[16] loss: 0.051\n",
      "Accuracy of the network on the val images: 49 %\n",
      "[17] loss: 0.042\n",
      "Accuracy of the network on the val images: 50 %\n",
      "[18] loss: 0.024\n",
      "Accuracy of the network on the val images: 49 %\n",
      "[19] loss: 0.021\n",
      "Accuracy of the network on the val images: 50 %\n",
      "[20] loss: 0.010\n",
      "Accuracy of the network on the val images: 51 %\n",
      "[21] loss: 0.005\n",
      "Accuracy of the network on the val images: 51 %\n",
      "[22] loss: 0.003\n",
      "Accuracy of the network on the val images: 51 %\n",
      "[23] loss: 0.004\n",
      "Accuracy of the network on the val images: 51 %\n",
      "[24] loss: 0.003\n",
      "Accuracy of the network on the val images: 51 %\n",
      "[25] loss: 0.003\n",
      "Accuracy of the network on the val images: 51 %\n",
      "[26] loss: 0.002\n",
      "Accuracy of the network on the val images: 52 %\n",
      "[27] loss: 0.002\n",
      "Accuracy of the network on the val images: 52 %\n",
      "[28] loss: 0.002\n",
      "Accuracy of the network on the val images: 52 %\n",
      "[29] loss: 0.002\n",
      "Accuracy of the network on the val images: 52 %\n",
      "[30] loss: 0.002\n",
      "Accuracy of the network on the val images: 52 %\n",
      "[31] loss: 0.002\n",
      "Accuracy of the network on the val images: 51 %\n",
      "[32] loss: 0.001\n",
      "Accuracy of the network on the val images: 52 %\n",
      "[33] loss: 0.003\n",
      "Accuracy of the network on the val images: 51 %\n",
      "[34] loss: 0.001\n",
      "Accuracy of the network on the val images: 52 %\n",
      "[35] loss: 0.001\n",
      "Accuracy of the network on the val images: 52 %\n",
      "[36] loss: 0.001\n",
      "Accuracy of the network on the val images: 51 %\n",
      "[37] loss: 0.001\n",
      "Accuracy of the network on the val images: 52 %\n",
      "[38] loss: 0.001\n",
      "Accuracy of the network on the val images: 52 %\n",
      "[39] loss: 0.001\n",
      "Accuracy of the network on the val images: 52 %\n",
      "[40] loss: 0.001\n",
      "Accuracy of the network on the val images: 52 %\n",
      "[41] loss: 0.001\n",
      "Accuracy of the network on the val images: 52 %\n",
      "[42] loss: 0.001\n",
      "Accuracy of the network on the val images: 52 %\n",
      "[43] loss: 0.001\n",
      "Accuracy of the network on the val images: 52 %\n",
      "[44] loss: 0.001\n",
      "Accuracy of the network on the val images: 52 %\n",
      "[45] loss: 0.001\n",
      "Accuracy of the network on the val images: 52 %\n",
      "[46] loss: 0.001\n",
      "Accuracy of the network on the val images: 52 %\n",
      "[47] loss: 0.001\n",
      "Accuracy of the network on the val images: 52 %\n",
      "[48] loss: 0.001\n",
      "Accuracy of the network on the val images: 52 %\n",
      "[49] loss: 0.001\n",
      "Accuracy of the network on the val images: 52 %\n",
      "[50] loss: 0.001\n",
      "Accuracy of the network on the val images: 52 %\n",
      "Finished Training\n"
     ]
    }
   ],
   "source": [
    "########################################################################\n",
    "# 4. Train the network\n",
    "# ^^^^^^^^^^^^^^^^^^^^\n",
    "#\n",
    "# We simply have to loop over our data iterator, and feed the inputs to the\n",
    "# network and optimize. We evaluate the validation accuracy at each\n",
    "# epoch and plot these values over the number of epochs\n",
    "# Nothing to change here\n",
    "# -----------------------------\n",
    "for epoch in range(EPOCHS):  # loop over the dataset multiple times\n",
    "\n",
    "    running_loss = 0.0\n",
    "    for i, data in enumerate(trainloader, 0):\n",
    "        # get the inputs\n",
    "        inputs, labels = data\n",
    "\n",
    "        if IS_GPU:\n",
    "            inputs = inputs.cuda()\n",
    "            labels = labels.cuda()\n",
    "\n",
    "        # wrap them in Variable\n",
    "        inputs, labels = Variable(inputs), Variable(labels)\n",
    "\n",
    "        # zero the parameter gradients\n",
    "        optimizer.zero_grad()\n",
    "\n",
    "        # forward + backward + optimize\n",
    "        outputs = net(inputs)\n",
    "        loss = criterion(outputs, labels)\n",
    "        loss.backward()\n",
    "        optimizer.step()\n",
    "\n",
    "        # print statistics\n",
    "        running_loss += loss.item()\n",
    "    \n",
    "    # Normalizing the loss by the total number of train batches\n",
    "    running_loss/=len(trainloader)\n",
    "    print('[%d] loss: %.3f' %\n",
    "          (epoch + 1, running_loss))\n",
    "\n",
    "    # Scale of 0.0 to 100.0\n",
    "    # Calculate validation set accuracy of the existing model\n",
    "    val_accuracy, val_classwise_accuracy = \\\n",
    "        calculate_val_accuracy(valloader, IS_GPU)\n",
    "    print('Accuracy of the network on the val images: %d %%' % (val_accuracy))\n",
    "\n",
    "    # # Optionally print classwise accuracies\n",
    "    # for c_i in range(TOTAL_CLASSES):\n",
    "    #     print('Accuracy of %5s : %2d %%' % (\n",
    "    #         classes[c_i], 100 * val_classwise_accuracy[c_i]))\n",
    "\n",
    "    train_loss_over_epochs.append(running_loss)\n",
    "    val_accuracy_over_epochs.append(val_accuracy)\n",
    "# -----------------------------\n",
    "\n",
    "\n",
    "# Plot train loss over epochs and val set accuracy over epochs\n",
    "# Nothing to change here\n",
    "# -------------\n",
    "plt.subplot(2, 1, 1)\n",
    "plt.ylabel('Train loss')\n",
    "plt.plot(np.arange(EPOCHS), train_loss_over_epochs, 'k-')\n",
    "plt.title('train loss and val accuracy')\n",
    "plt.xticks(np.arange(EPOCHS, dtype=int))\n",
    "plt.grid(True)\n",
    "\n",
    "plt.subplot(2, 1, 2)\n",
    "plt.plot(np.arange(EPOCHS), val_accuracy_over_epochs, 'b-')\n",
    "plt.ylabel('Val accuracy')\n",
    "plt.xlabel('Epochs')\n",
    "plt.xticks(np.arange(EPOCHS, dtype=int))\n",
    "plt.grid(True)\n",
    "plt.savefig(\"plot.png\")\n",
    "plt.close(fig)\n",
    "print('Finished Training')\n",
    "# -------------"
   ]
  },
  {
   "cell_type": "code",
   "execution_count": 0,
   "metadata": {
    "colab": {},
    "colab_type": "code",
    "id": "v1GE8t3mRdy9"
   },
   "outputs": [],
   "source": [
    "########################################################################\n",
    "# 5. Try the network on test data, and create .csv file\n",
    "# ^^^^^^^^^^^^^^^^^^^^^^^^^^^^^^^^^^^^^^^^^^^^^^^^^^^^^\n",
    "########################################################################\n",
    "\n",
    "# Check out why .eval() is important!\n",
    "# https://discuss.pytorch.org/t/model-train-and-model-eval-vs-model-and-model-eval/5744/2\n",
    "net.eval()\n",
    "\n",
    "total = 0\n",
    "predictions = []\n",
    "for data in testloader:\n",
    "    images, labels = data\n",
    "\n",
    "    # For training on GPU, we need to transfer net and data onto the GPU\n",
    "    # http://pytorch.org/tutorials/beginner/blitz/cifar10_tutorial.html#training-on-gpu\n",
    "    if IS_GPU:\n",
    "        images = images.cuda()\n",
    "        labels = labels.cuda()\n",
    "    \n",
    "    outputs = net(Variable(images))\n",
    "    _, predicted = torch.max(outputs.data, 1)\n",
    "    predictions.extend(list(predicted.cpu().numpy()))\n",
    "    total += labels.size(0)\n",
    "\n",
    "with open('submission_netid.csv', 'w') as csvfile:\n",
    "    wr = csv.writer(csvfile, quoting=csv.QUOTE_ALL)\n",
    "    wr.writerow([\"Id\", \"Prediction1\"])\n",
    "    for l_i, label in enumerate(predictions):\n",
    "        wr.writerow([str(l_i), str(label)])\n"
   ]
  },
  {
   "cell_type": "markdown",
   "metadata": {
    "colab_type": "text",
    "id": "og2F2MLhs7L6"
   },
   "source": [
    "# Part 2"
   ]
  },
  {
   "cell_type": "code",
   "execution_count": 0,
   "metadata": {
    "colab": {},
    "colab_type": "code",
    "id": "prD0eXGpdoCR"
   },
   "outputs": [],
   "source": [
    "\"\"\"Headers\"\"\"\n",
    "import os\n",
    "import os.path as osp\n",
    "import time\n",
    "\n",
    "%matplotlib inline\n",
    "import matplotlib.pyplot as plt\n",
    "\n",
    "import torch\n",
    "import torch.nn as nn\n",
    "import torchvision.models as models\n",
    "import torch.optim as optim\n",
    "\n",
    "from torchvision import datasets"
   ]
  },
  {
   "cell_type": "markdown",
   "metadata": {
    "colab_type": "text",
    "id": "P6CJz7OM0J9Z"
   },
   "source": [
    "# Pre-Trained Model\n",
    "\n",
    "TODO1. Load pretrained resnet model. Experiment with different models. \n",
    "\n",
    "TODO2: Replace last fc layer\n",
    "\n",
    "TODO3. Forward pass"
   ]
  },
  {
   "cell_type": "code",
   "execution_count": 0,
   "metadata": {
    "colab": {},
    "colab_type": "code",
    "id": "HUdo6AkH0maX"
   },
   "outputs": [],
   "source": [
    "class PreTrainedResNet(nn.Module):\n",
    "  def __init__(self, num_classes, feature_extracting):\n",
    "    super(PreTrainedResNet, self).__init__()\n",
    "    \n",
    "    #TODO1: Load pre-trained ResNet Model\n",
    "    self.resnet18 = models.resnet18(pretrained=True)\n",
    "\n",
    "    #Set gradients to false\n",
    "    if feature_extracting:\n",
    "      for param in self.resnet18.parameters():\n",
    "          param.requires_grad = False\n",
    "    \n",
    "    #Replace last fc layer\n",
    "    num_feats = self.resnet18.fc.in_features\n",
    "    \n",
    "    #TODO2: Replace fc layer in resnet to a linear layer of size (num_feats, num_classes)\n",
    "    self.resnet18.fc = nn.Linear(num_feats, num_classes)\n",
    "  def forward(self, x):\n",
    "    #TODO3: Forward pass x through the model\n",
    "    x = self.resnet18.forward(x)\n",
    "    return x"
   ]
  },
  {
   "cell_type": "markdown",
   "metadata": {
    "colab_type": "text",
    "id": "Y_DRbNt8Jask"
   },
   "source": [
    "# Train"
   ]
  },
  {
   "cell_type": "code",
   "execution_count": 0,
   "metadata": {
    "colab": {},
    "colab_type": "code",
    "id": "ujUNEVsEvWwv"
   },
   "outputs": [],
   "source": [
    "def train(model, optimizer, criterion, epoch, num_epochs):\n",
    "  model.train()\n",
    "  epoch_loss = 0.0\n",
    "  epoch_acc = 0.0\n",
    "  \n",
    "  for batch_idx, (images, labels) in enumerate(dataloaders['train']):\n",
    "    #zero the parameter gradients\n",
    "    optimizer.zero_grad()\n",
    "    \n",
    "    #move to GPU\n",
    "    images, labels = images.cuda(), labels.cuda()\n",
    "    \n",
    "    #forward\n",
    "    outputs = model.forward(images)\n",
    "    \n",
    "    loss = criterion(outputs, labels)\n",
    "    \n",
    "    _, preds = torch.max(outputs.data, 1)\n",
    "    \n",
    "    loss.backward()\n",
    "    optimizer.step()\n",
    "    \n",
    "    epoch_loss += loss.item()\n",
    "    epoch_acc += torch.sum(preds == labels).item()\n",
    "    \n",
    "  epoch_loss /= dataset_sizes['train']\n",
    "  epoch_acc /= dataset_sizes['train']\n",
    "  \n",
    "  print('TRAINING Epoch %d/%d Loss %.4f Accuracy %.4f' % (epoch, num_epochs, epoch_loss, epoch_acc))"
   ]
  },
  {
   "cell_type": "markdown",
   "metadata": {
    "colab_type": "text",
    "id": "mAbNgE4r7vm-"
   },
   "source": [
    "# Main\n",
    "\n",
    "1. Vary hyperparams\n",
    "2. Data augmentation"
   ]
  },
  {
   "cell_type": "code",
   "execution_count": 65,
   "metadata": {
    "colab": {
     "base_uri": "https://localhost:8080/",
     "height": 890
    },
    "colab_type": "code",
    "id": "oZkI3scVWjOQ",
    "outputId": "1d976020-f58e-4b69-faed-2997f461ccfd"
   },
   "outputs": [
    {
     "name": "stdout",
     "output_type": "stream",
     "text": [
      "TRAINING Epoch 1/50 Loss 0.1680 Accuracy 0.0327\n",
      "TRAINING Epoch 2/50 Loss 0.1355 Accuracy 0.1047\n",
      "TRAINING Epoch 3/50 Loss 0.1147 Accuracy 0.1847\n",
      "TRAINING Epoch 4/50 Loss 0.1013 Accuracy 0.2630\n",
      "TRAINING Epoch 5/50 Loss 0.0885 Accuracy 0.3283\n",
      "TRAINING Epoch 6/50 Loss 0.0843 Accuracy 0.3550\n",
      "TRAINING Epoch 7/50 Loss 0.0736 Accuracy 0.4223\n",
      "TRAINING Epoch 8/50 Loss 0.0680 Accuracy 0.4610\n",
      "TRAINING Epoch 9/50 Loss 0.0627 Accuracy 0.4990\n",
      "TRAINING Epoch 10/50 Loss 0.0580 Accuracy 0.5377\n",
      "TRAINING Epoch 11/50 Loss 0.0561 Accuracy 0.5407\n",
      "TRAINING Epoch 12/50 Loss 0.0505 Accuracy 0.5840\n",
      "TRAINING Epoch 13/50 Loss 0.0475 Accuracy 0.6133\n",
      "TRAINING Epoch 14/50 Loss 0.0457 Accuracy 0.6327\n",
      "TRAINING Epoch 15/50 Loss 0.0445 Accuracy 0.6337\n",
      "TRAINING Epoch 16/50 Loss 0.0410 Accuracy 0.6807\n",
      "TRAINING Epoch 17/50 Loss 0.0352 Accuracy 0.7263\n",
      "TRAINING Epoch 18/50 Loss 0.0352 Accuracy 0.7177\n",
      "TRAINING Epoch 19/50 Loss 0.0323 Accuracy 0.7400\n",
      "TRAINING Epoch 20/50 Loss 0.0313 Accuracy 0.7433\n",
      "TRAINING Epoch 21/50 Loss 0.0290 Accuracy 0.7617\n",
      "TRAINING Epoch 22/50 Loss 0.0275 Accuracy 0.7787\n",
      "TRAINING Epoch 23/50 Loss 0.0284 Accuracy 0.7607\n",
      "TRAINING Epoch 24/50 Loss 0.0270 Accuracy 0.7857\n",
      "TRAINING Epoch 25/50 Loss 0.0261 Accuracy 0.7927\n",
      "TRAINING Epoch 26/50 Loss 0.0249 Accuracy 0.7993\n",
      "TRAINING Epoch 27/50 Loss 0.0261 Accuracy 0.7837\n",
      "TRAINING Epoch 28/50 Loss 0.0238 Accuracy 0.8073\n",
      "TRAINING Epoch 29/50 Loss 0.0231 Accuracy 0.8160\n",
      "TRAINING Epoch 30/50 Loss 0.0223 Accuracy 0.8200\n",
      "TRAINING Epoch 31/50 Loss 0.0228 Accuracy 0.8130\n",
      "TRAINING Epoch 32/50 Loss 0.0226 Accuracy 0.8227\n",
      "TRAINING Epoch 33/50 Loss 0.0212 Accuracy 0.8383\n",
      "TRAINING Epoch 34/50 Loss 0.0226 Accuracy 0.8223\n",
      "TRAINING Epoch 35/50 Loss 0.0193 Accuracy 0.8430\n",
      "TRAINING Epoch 36/50 Loss 0.0188 Accuracy 0.8483\n",
      "TRAINING Epoch 37/50 Loss 0.0194 Accuracy 0.8467\n",
      "TRAINING Epoch 38/50 Loss 0.0181 Accuracy 0.8540\n",
      "TRAINING Epoch 39/50 Loss 0.0189 Accuracy 0.8500\n",
      "TRAINING Epoch 40/50 Loss 0.0194 Accuracy 0.8420\n",
      "TRAINING Epoch 41/50 Loss 0.0190 Accuracy 0.8443\n",
      "TRAINING Epoch 42/50 Loss 0.0173 Accuracy 0.8653\n",
      "TRAINING Epoch 43/50 Loss 0.0166 Accuracy 0.8660\n",
      "TRAINING Epoch 44/50 Loss 0.0173 Accuracy 0.8590\n",
      "TRAINING Epoch 45/50 Loss 0.0166 Accuracy 0.8693\n",
      "TRAINING Epoch 46/50 Loss 0.0173 Accuracy 0.8597\n",
      "TRAINING Epoch 47/50 Loss 0.0165 Accuracy 0.8713\n",
      "TRAINING Epoch 48/50 Loss 0.0162 Accuracy 0.8667\n",
      "TRAINING Epoch 49/50 Loss 0.0156 Accuracy 0.8777\n",
      "TRAINING Epoch 50/50 Loss 0.0146 Accuracy 0.8880\n",
      "Finished Training\n",
      "----------\n"
     ]
    }
   ],
   "source": [
    "#TODO: Vary Hyperparams\n",
    "\n",
    "NUM_EPOCHS = 50\n",
    "LEARNING_RATE = 0.03\n",
    "BATCH_SIZE = 32\n",
    "RESNET_LAST_ONLY = False #Fine tunes only the last layer. Set to False to fine tune entire network\n",
    "\n",
    "root_path = '/data/' #If your data is in a different folder, set the path accodordingly\n",
    "\n",
    "data_transforms = {\n",
    "    'train': transforms.Compose([\n",
    "        \n",
    "        transforms.RandomResizedCrop(256, scale=(0.08, 1.0), ratio=(0.75, 1.3333333333333333), interpolation=2),\n",
    "        #TODO: Transforms.RandomResizedCrop() instead of CenterCrop(), RandomRoate() and Horizontal Flip()\n",
    "        transforms.ToTensor(),\n",
    "        transforms.Normalize((0.5, 0.5, 0.5), (0.5, 0.5, 0.5))\n",
    "        #TODO: Transforms.Normalize()\n",
    "    ]),\n",
    "    'test': transforms.Compose([\n",
    "        \n",
    "        transforms.RandomResizedCrop(256, scale=(0.08, 1.0), ratio=(0.75, 1.3333333333333333), interpolation=2),\n",
    "        transforms.ToTensor(),\n",
    "        #TODO: Transforms.Normalize()\n",
    "        transforms.Normalize((0.5, 0.5, 0.5), (0.5, 0.5, 0.5))\n",
    "    ]),\n",
    "}\n",
    "\n",
    "# loading datasets with PyTorch ImageFolder\n",
    "image_datasets = {x: datasets.ImageFolder(os.path.join(root_path, x),\n",
    "                                          data_transforms[x])\n",
    "                  for x in ['train', 'test']}\n",
    "\n",
    "# defining data loaders to load data using image_datasets and transforms, here we also specify batch size for the mini batch\n",
    "dataloaders = {x: torch.utils.data.DataLoader(image_datasets[x], batch_size=BATCH_SIZE,\n",
    "                                             shuffle=True, num_workers=4)\n",
    "              for x in ['train', 'test']}\n",
    "\n",
    "dataset_sizes = {x: len(image_datasets[x]) for x in ['train', 'test']}\n",
    "class_names = image_datasets['train'].classes\n",
    "\n",
    "#Initialize the model\n",
    "model = PreTrainedResNet(len(class_names), RESNET_LAST_ONLY)\n",
    "model = model.cuda()\n",
    "\n",
    "#Setting the optimizer and loss criterion\n",
    "optimizer = optim.SGD(model.parameters(), lr=LEARNING_RATE, momentum=0.9)\n",
    "criterion = nn.CrossEntropyLoss()\n",
    "\n",
    "#Begin Train\n",
    "for epoch in range(NUM_EPOCHS):\n",
    "  train(model, optimizer, criterion, epoch+1, NUM_EPOCHS)\n",
    "  \n",
    "print(\"Finished Training\")\n",
    "print(\"-\"*10)"
   ]
  },
  {
   "cell_type": "markdown",
   "metadata": {
    "colab_type": "text",
    "id": "DEbsnh3a7ljw"
   },
   "source": [
    "# Test"
   ]
  },
  {
   "cell_type": "code",
   "execution_count": 0,
   "metadata": {
    "colab": {},
    "colab_type": "code",
    "id": "4wyYKmQ91woU"
   },
   "outputs": [],
   "source": [
    "def test(model, criterion, repeats=2):\n",
    "  model.eval()\n",
    "  \n",
    "  test_loss = 0.0\n",
    "  test_acc = 0.0\n",
    "  \n",
    "  with torch.no_grad():\n",
    "    for itr in range(repeats):\n",
    "      for batch_idx, (images, labels) in enumerate(dataloaders['test']):\n",
    "        #move to GPU\n",
    "        images, labels = images.cuda(), labels.cuda()\n",
    "\n",
    "        #forward\n",
    "        outputs = model.forward(images)\n",
    "\n",
    "        loss = criterion(outputs, labels)\n",
    "\n",
    "        _, preds = torch.max(outputs.data, 1)\n",
    "\n",
    "        test_loss += loss.item()\n",
    "        test_acc += torch.sum(preds == labels).item()\n",
    "\n",
    "    test_loss /= (dataset_sizes['test']*repeats)\n",
    "    test_acc /= (dataset_sizes['test']*repeats)\n",
    "\n",
    "    print('Test Loss: %.4f Test Accuracy %.4f' % (test_loss, test_acc))\n"
   ]
  },
  {
   "cell_type": "code",
   "execution_count": 67,
   "metadata": {
    "colab": {
     "base_uri": "https://localhost:8080/",
     "height": 34
    },
    "colab_type": "code",
    "id": "znXWR6oWyl-B",
    "outputId": "754d0941-b36c-4968-c9da-2c07756329bb"
   },
   "outputs": [
    {
     "name": "stdout",
     "output_type": "stream",
     "text": [
      "Test Loss: 0.1116 Test Accuracy 0.3689\n"
     ]
    }
   ],
   "source": [
    "test(model, criterion)"
   ]
  },
  {
   "cell_type": "markdown",
   "metadata": {
    "colab_type": "text",
    "id": "kNX2g3AYUbM2"
   },
   "source": [
    "# Visualizing the model predictions\n",
    "\n",
    "Only for viusalizing. Nothing to be done here. "
   ]
  },
  {
   "cell_type": "code",
   "execution_count": 0,
   "metadata": {
    "colab": {},
    "colab_type": "code",
    "id": "Zd_lkTdoUaOX"
   },
   "outputs": [],
   "source": [
    "def imshow(inp, title=None):\n",
    "    \"\"\"Imshow for Tensor.\"\"\"\n",
    "    inp = inp.numpy().transpose((1, 2, 0))\n",
    "    inp = np.clip(inp, 0, 1)\n",
    "    plt.imshow(inp)\n",
    "    if title is not None:\n",
    "        plt.title(title)\n",
    "    plt.pause(1)  # pause a bit so that plots are updated\n",
    "    \n",
    "def visualize_model(model, num_images=8):\n",
    "    images_so_far = 0\n",
    "    fig = plt.figure()\n",
    "\n",
    "    for batch_idx, (images, labels) in enumerate(dataloaders['test']):\n",
    "        #move to GPU\n",
    "        images, labels = images.cuda(), labels.cuda()\n",
    "        \n",
    "        outputs = model(images)\n",
    "        \n",
    "        _, preds = torch.max(outputs.data, 1)\n",
    "       \n",
    "\n",
    "        for j in range(images.size()[0]):\n",
    "            images_so_far += 1\n",
    "            ax = plt.subplot(num_images//2, 2, images_so_far)\n",
    "            ax.axis('off')\n",
    "            ax.set_title('class: {} predicted: {}'.format(class_names[labels.data[j]], class_names[preds[j]]))\n",
    "\n",
    "            imshow(images.cpu().data[j])\n",
    "\n",
    "            if images_so_far == num_images:\n",
    "                return"
   ]
  },
  {
   "cell_type": "code",
   "execution_count": 69,
   "metadata": {
    "colab": {
     "base_uri": "https://localhost:8080/",
     "height": 772
    },
    "colab_type": "code",
    "id": "sxjSnLKOJsTW",
    "outputId": "2d889d44-5730-44eb-fe0a-9e0d1bdcdd61"
   },
   "outputs": [
    {
     "data": {
      "image/png": "[encoded data removed]",
      "text/plain": [
       "<Figure size 432x288 with 1 Axes>"
      ]
     },
     "metadata": {
      "tags": []
     },
     "output_type": "display_data"
    },
    {
     "data": {
      "image/png": "[encoded data removed]",
      "text/plain": [
       "<Figure size 432x288 with 1 Axes>"
      ]
     },
     "metadata": {
      "tags": []
     },
     "output_type": "display_data"
    },
    {
     "data": {
      "image/png": "[encoded data removed]",
      "text/plain": [
       "<Figure size 432x288 with 1 Axes>"
      ]
     },
     "metadata": {
      "tags": []
     },
     "output_type": "display_data"
    },
    {
     "data": {
      "image/png": "[encoded data removed]",
      "text/plain": [
       "<Figure size 432x288 with 1 Axes>"
      ]
     },
     "metadata": {
      "tags": []
     },
     "output_type": "display_data"
    },
    {
     "data": {
      "image/png": "[encoded data removed]",
      "text/plain": [
       "<Figure size 432x288 with 1 Axes>"
      ]
     },
     "metadata": {
      "tags": []
     },
     "output_type": "display_data"
    },
    {
     "data": {
      "image/png": "[encoded data removed]",
      "text/plain": [
       "<Figure size 432x288 with 1 Axes>"
      ]
     },
     "metadata": {
      "tags": []
     },
     "output_type": "display_data"
    },
    {
     "data": {
      "image/png": "[encoded data removed]",
      "text/plain": [
       "<Figure size 432x288 with 1 Axes>"
      ]
     },
     "metadata": {
      "tags": []
     },
     "output_type": "display_data"
    },
    {
     "data": {
      "image/png": "[encoded data removed]",
      "text/plain": [
       "<Figure size 432x288 with 1 Axes>"
      ]
     },
     "metadata": {
      "tags": []
     },
     "output_type": "display_data"
    }
   ],
   "source": [
    "visualize_model(model)"
   ]
  }
 ],
 "metadata": {
  "accelerator": "GPU",
  "colab": {
   "collapsed_sections": [],
   "name": "CS543_MP4.ipynb",
   "provenance": [],
   "toc_visible": true,
   "version": "0.3.2"
  },
  "kernelspec": {
   "display_name": "Python 3",
   "language": "python",
   "name": "python3"
  },
  "language_info": {
   "codemirror_mode": {
    "name": "ipython",
    "version": 3
   },
   "file_extension": ".py",
   "mimetype": "text/x-python",
   "name": "python",
   "nbconvert_exporter": "python",
   "pygments_lexer": "ipython3",
   "version": "3.6.8"
  }
 },
 "nbformat": 4,
 "nbformat_minor": 1
}
